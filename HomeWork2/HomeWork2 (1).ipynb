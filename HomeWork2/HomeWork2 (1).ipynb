{
 "cells": [
  {
   "cell_type": "markdown",
   "id": "9116e58f",
   "metadata": {},
   "source": [
    "# Introducción a la optimización"
   ]
  },
  {
   "cell_type": "markdown",
   "id": "e3a0980c",
   "metadata": {},
   "source": [
    "----\n",
    "## Segunda Tarea\n",
    "## Diego Romero Iregui"
   ]
  },
  {
   "cell_type": "markdown",
   "id": "d3251375",
   "metadata": {},
   "source": [
    "---\n",
    "### Ejercicio 2.1"
   ]
  },
  {
   "cell_type": "markdown",
   "id": "385bdc14",
   "metadata": {},
   "source": [
    "Let $C ⊆ R^n$\n",
    "be a convex set, with $x_1, . . . , x_k ∈ C$, and let $θ_1, . . . , θ_k ∈ R$ satisfy $θ_i ≥ 0$,\n",
    "$θ_1 + · · · + θ_k = 1$. Show that $θ_1x_1 + · · · + θ_kx_k ∈ C$. (The definition of convexity is that\n",
    "this holds for k = 2; you must show it for arbitrary k.) Hint. Use induction on k."
   ]
  },
  {
   "cell_type": "markdown",
   "id": "07b6414c",
   "metadata": {},
   "source": [
    "Sea la propiedad P(k) := \"Para cualquier k ∈ $N$, si se tienen C ⊆ $R^n$ con C un conjunto convexo, $x_1, . . . , x_k ∈ C$ y $θ_1, . . . , θ_k ∈ R$ tal que $θ_i ≥ 0$ y $θ_1 + · · · + θ_k = 1$, entonces $θ_1x_1 + · · · + θ_kx_k ∈ C$.\"\\\n",
    "Como lo dice el enunciado, la definición de convexidad es que P(2) se cumple. Se debe entonces probar que si P(k) es verdadera P(k+1) también lo será.\\\n",
    "Supongamos que para un k ∈ $N$, P(k) se cumple. Además, sea un C ⊆ $R^n$ conjunto convexo, sean $x_1, . . . , x_{k+1} ∈ C$ y sean $θ_1, . . . , θ_{k+1} ∈ R$ tal que $θ_i ≥ 0$ y $θ_1 + · · · + θ_{k+1} = 1$. Debe existir al menos un $\\theta_i$ diferente de 1, sin perdida de generalidad supóngase que este es $\\theta_1$. Entonces $\\theta_2 + · · · + θ_{k+1} = b$, con $b \\neq 0$. $\\Rightarrow \\frac{1}{b}(\\theta_2 + · · · + θ_{k+1}) = 1$.\n",
    "Por hipótesis de inducción, se tendría que $\\frac{1}{b}(θ_2x_1 + · · · + θ_kx_{k+1}) ∈ C$. Por la convexidad de C, $\\theta_1 x_1  + (1-\\theta_1)\\frac{1}{b}(θ_2x_1 + · · · + θ_kx_{k+1}) \\in C$. Como $b = 1-\\theta_1$, $\\theta_1 x_1  + (1-\\theta_1)\\frac{1}{1-\\theta_1}(θ_2x_1 + · · · + θ_kx_{k+1}) \\in C$. Finalmente, $\\theta_1 x_1  + θ_2x_1 + · · · + θ_kx_{k+1} \\in C$"
   ]
  },
  {
   "cell_type": "markdown",
   "id": "716f1b7f",
   "metadata": {},
   "source": [
    "---\n",
    "### Ejercicio 2.3"
   ]
  },
  {
   "cell_type": "markdown",
   "id": "03d6726c",
   "metadata": {},
   "source": [
    "Midpoint convexity. A set C is midpoint convex if whenever two points a, b are in C, the\n",
    "average or midpoint (a + b)/2 is in C. Obviously a convex set is midpoint convex. It can\n",
    "be proved that under mild conditions midpoint convexity implies convexity. As a simple\n",
    "case, prove that if C is closed and midpoint convex, then C is convex."
   ]
  },
  {
   "cell_type": "markdown",
   "id": "610b302a",
   "metadata": {},
   "source": [
    "Sea C un conjunto punto-medio convexo y cerrado, y sean $x_1, x_2 \\in C$. Entonces, por ser C punto-medio convexo, $\\frac{1}{2}x_1 + \\frac{1}{2}x_2 \\in C$. A su vez, en medio de este punto y $x_1$ habrá otro punto que también pertenezca a C. Es decir, $\\frac{1}{2}(\\frac{1}{2}x_1 + \\frac{1}{2}x_2) + \\frac{1}{2}x_1 = \\frac{3}{4}x_1 + \\frac{1}{4}x_2\\in C$.\\\n",
    "Puede verse que más generalmente, $\\frac{1}{2k_1}x_1 + \\frac{1}{2k_2}x_2 \\in C$, si $\\frac{1}{2k_1} + \\frac{1}{2k_2} = 1$. Si se toma $\\theta_1 = \\frac{1}{2k_1}$ y $\\theta_2 = \\frac{1}{2k_2}$ se tendría entonces la definición de convexidad."
   ]
  },
  {
   "cell_type": "markdown",
   "id": "3c691a6f",
   "metadata": {},
   "source": [
    "---\n",
    "### Ejercicio 2.4"
   ]
  },
  {
   "cell_type": "markdown",
   "id": "d59f58cc",
   "metadata": {},
   "source": [
    "Show that the convex hull of a set S is the intersection of all convex sets that contain S.\n",
    "(The same method can be used to show that the conic, or affine, or linear hull of a set S\n",
    "is the intersection of all conic sets, or affine sets, or subspaces that contain S.)\n"
   ]
  },
  {
   "cell_type": "markdown",
   "id": "72d8ce51",
   "metadata": {},
   "source": [
    "Recuérdese que la envolvente convexa de un conjunto C es el conjunto de todas las combinaciones convexas de los puntos en C. Sea Z el conjunto de todos los conjuntos convexos que contienen a S. Se deberá entonces probar que $conv(S) \\subseteq \\cap Z$ y $conv(S) \\supseteq \\cap Z$\\\n",
    "Suponga que existe $x \\in conv(S)$ tal que $x \\notin \\cap Z$. Como $x \\in conv(S)$, x es resultado de una combinación convexa entre elementos de S. Además, como $x \\notin \\cap Z$, existe $A \\in Z$ tal que $x \\notin A$. Véase que como $S \\subseteq A$, x sería resultado de una combinación convexa entre elementos de A, pero como $x \\notin A$, A no sería convexo. Esto es una contradicción, pues los elementos de Z son convexos, por lo que se cumple que $conv(S) \\subseteq \\cap Z$.\\\n",
    "Ahora sea x un elemento cualquiera de $\\cap Z$. Entonces, x pertenece a todos los conjuntos convexos que contienen a S. Por esto mismo x tendría que ser el resultado de una combinación convexa entre elementos de S. Por lo tanto $\\cap Z \\subseteq conv(S)$."
   ]
  },
  {
   "cell_type": "markdown",
   "id": "8db75efc",
   "metadata": {},
   "source": [
    "---\n",
    "### Ejercicio 2.5"
   ]
  },
  {
   "cell_type": "markdown",
   "id": "8373bd35",
   "metadata": {},
   "source": [
    "What is the distance between two parallel hyperplanes {x ∈ \n",
    "$R^n$\n",
    "| $a^T x = b_1$} and {$x ∈\n",
    "R^n$\n",
    "| $a^T x = b_2$}?\n"
   ]
  },
  {
   "cell_type": "markdown",
   "id": "9d126721",
   "metadata": {},
   "source": [
    "Sean $x_1$ un punto cualquiera del primer hiperplano. Se desea encontrar un punto $x_2$ en el segundo hiperplano que esté sobre una línea que pase por $x_1$ y cuya dirección esté dada por la normal $a$, la distancia entre $x_1$ y $x_2$ sería la distancia entre los hiperplanos. Sea $y$ la línea mencionada, se tendría $y=x_1 + at$. Para encontrar el punto de intersección se reemplaza: \\\n",
    "$a^T (x_1 + at) = b_2 \\Leftrightarrow x_1 + at = \\frac{b_2}{a^T} \\Leftrightarrow at = \\frac{b_2 - a^Tx_1}{a^T} \\Leftrightarrow t = \\frac{b_2 - a^Tx_1}{a^Ta} = \\frac{b_2 - b_1}{a^Ta}$ \\\n",
    "Reemplazando t se tiene que el punto de intersección es $x_2 = x_1 + a\\frac{b_2 - b_1}{a^Ta}$. Finalmente, la distancia entre los puntos $x_1$ y $x_2$ es \\\n",
    "$||x_1 - x_2|| = \\frac{|b_2 - b_1|}{a^Ta}||a|| = \\frac{|b_2 - b_1|}{||a||} $\n"
   ]
  },
  {
   "cell_type": "markdown",
   "id": "485b910d",
   "metadata": {},
   "source": [
    "---\n",
    "### Ejercicio 2.8"
   ]
  },
  {
   "cell_type": "markdown",
   "id": "d39c1d12",
   "metadata": {},
   "source": [
    "Which of the following sets S are polyhedra? If possible, express S in the form S =\n",
    "{x | $Ax \\preceq b, F x = g$}.\\\n",
    "(a) S = {$y_1 a_1 + y_2 a_2$ | $−1 ≤ y_1 ≤ 1, −1 ≤ y_2 ≤ 1$}, where $a_1, a_2 ∈ R^n$\n",
    ".\\\n",
    "(b) S = {$x ∈ R^n$| $x \\succeq 0, 1^T x = 1,\n",
    "\\sum_{i=1}^{n} x_i a_i = b_1,\n",
    "\\sum_{i=1}^{n} x_i a_i^2\n",
    " = b_2$}, where\n",
    "$a_1, . . . , a_n ∈ R$ and $b_1, b_2 ∈ R$.\\\n",
    "(c) S = {$x ∈ R^n$\n",
    "| $x \\succeq 0, x^T\n",
    "y ≤ 1$ for all y with $||y||_2 = 1$}.\\\n",
    "(d) S = {$x ∈ R^n$\n",
    "| $x \\succeq 0, x^T\n",
    "y ≤ 1$ for all y with $\\sum_{i=1}^{n}|y_i| = 1$}."
   ]
  },
  {
   "cell_type": "markdown",
   "id": "15dcda8c",
   "metadata": {},
   "source": [
    "a) En este caso S es un poliedro, y se puede expresar de la forma: S = {x | $a_1x \\leq 1, a_1x \\geq -1, a_2x \\leq 1, a_2x \\geq -1$} \\\n",
    "b) Este conjunto es un poliedro, pues $\\sum_{i=1}^{n} x_i a_i = b_1$ y\n",
    "$\\sum_{i=1}^{n} x_i a_i^2$ definen un producto punto, al ser la suma de productos componente a componente. Es decir, se puede definir un vector $a$ cuyos componentes sean los $a_i$s, y otro vector $a'$ cuyos componentes sean los $a_i^2$, y así definir más sencillamente el conjunto S como intersección de semiespacios\\\n",
    "c) Esto no se trata de un poliedro pues los elementos son aquellos que no pertenecen a un conjunto con forma esférica, un conjunto así no podría ser expresado como la intersección finita entre hiperplanos. \\\n",
    "d) Como en el punto anterior, este conjunto no puede ser un poliedro pues serían los puntos que no pertenecen a un conjunto de forma esférica.\n"
   ]
  },
  {
   "cell_type": "markdown",
   "id": "ac66a4e1",
   "metadata": {},
   "source": [
    "---\n",
    "### Ejercicio 2.9"
   ]
  },
  {
   "cell_type": "markdown",
   "id": "f57006b0",
   "metadata": {},
   "source": [
    "Voronoi sets and polyhedral decomposition. Let x0, . . . , xK ∈ Rn\n",
    ". Consider the set of\n",
    "points that are closer (in Euclidean norm) to $x_0$ than the other $x_i$, i.e.,\n",
    "\\\n",
    "\\\n",
    "V = {$x ∈ R^n$\n",
    "| $||x − x_0||_2 ≤ ||x − x_i||_2, i = 1, . . . , K$}.\n",
    "\\\n",
    "\\\n",
    "V is called the Voronoi region around x0 with respect to x1, . . . , xK.\\\n",
    "\\\n",
    "(a)  Show that V is a polyhedron. Express V in the form V = {x | $Ax \\preceq b$}.\\\n",
    "(b)  Conversely, given a polyhedron P with nonempty interior, show how to find $x_0, . . . , x_K$\n",
    "so that the polyhedron is the Voronoi region of $x_0$ with respect to $x_1, . . . , x_K$.\\\n",
    "(c)  We can also consider the sets\n",
    "\\\n",
    "\\\n",
    "$V_k$ = {$x ∈ R^n$\n",
    "| $||x − x_k||_2 ≤ ||x − x_i||_2, i \\neq k$}.\n",
    "\\\n",
    "\\\n",
    "The set $V_k$ consists of points in $R^n$\n",
    "for which the closest point in the set {$x_0, . . . , x_K$}\n",
    "is $x_k$.\\\n",
    "The sets $V_0, . . . , V_K$ give a polyhedral decomposition of $R^n$\n",
    ". More precisely, the sets\n",
    "$V_k$ are polyhedra, $\\cup_{k=0}^{K}V_k = R^n$\n",
    ", and $int V_i ∩ int V_j = ∅$ for $i \\neq j$, i.e., $V_i and V_j$\n",
    "intersect at most along a boundary.\\\n",
    "Suppose that $P_1, . . . , P_m$ are polyhedra such that $\\cup_{i=1}^{m} P_i = R^n$\n",
    ", and $intP_i ∩\n",
    "int P_j = ∅$ for $i \\neq j$. Can this polyhedral decomposition of $R^n$\n",
    "be described as\n",
    "the Voronoi regions generated by an appropriate set of points?\n"
   ]
  },
  {
   "cell_type": "markdown",
   "id": "5e37eb65",
   "metadata": {},
   "source": [
    "a) $||x-x_0||_2 \\leq ||x-x_i||_2 \\Leftrightarrow (x-x_0)^T(x-x_0) \\leq (x-x_i)^T (x-x_i)$\\\n",
    "$\\Leftrightarrow x^Tx + x_0^T x_0 - 2x_0^T x  \\leq x^Tx + x_i^Tx_i - 2x_i^T x $\\\n",
    "$\\Leftrightarrow 2(x_i - x_0)^T x \\leq x_i^T x_i - x_0^Tx_0$\\\n",
    "Esto último define un semiespacio para cada $x_i$, por lo que puede decirse que V es un poliedro.\\\n",
    "Puede escribirse $V = \\left\\lbrace x | b \\succeq Ax \\right\\rbrace$ tal que todo componente i de $b$ sea $ x_i^T x_i - x_0^Tx_0$, y todo componente i de A sea $2(x_i - x_0)$\\\n",
    "b) Se deben tomar los $x_i$ tal que $x_i = x_0 + ka_i$ , siendo los $a_i$ los vectores que forman los hiperplanos $\\left\\lbrace x | a_i^T x + b_i \\right\\rbrace$, y $k$ siendo igual a la distancia entre $x_0$ y el hiperplano $b_i - a_i^T x_0 = a_i^T x_i - b_i$.\\\n",
    "Resolviendo se encuentra $k = 2(b_i - a_i^T x_0) / ||a_i||_2^2$, y recuérdese que $x_i = x_0 + ka_i$.\\\n",
    "c) Esta representación no siempre podrá tenerse, pues podría encontrarse un punto que deba ser imagen de dos puntos por dos hiperplanos diferentes, pero no pueda perteneces a los poliedros correspondientes al mismo tiempo."
   ]
  },
  {
   "cell_type": "markdown",
   "id": "70989382",
   "metadata": {},
   "source": [
    "---\n",
    "### Ejercicio 2.10"
   ]
  },
  {
   "cell_type": "markdown",
   "id": "408dcfb6",
   "metadata": {},
   "source": [
    "Solution set of a quadratic inequality. Let $C ⊆ R^n$\n",
    "be the solution set of a quadratic\n",
    "inequality,\n",
    "\\\n",
    "\\\n",
    "C = {$x ∈ R^n$\n",
    "| $x^T Ax + b^T\n",
    "x + c ≤ 0$},\n",
    "\\\n",
    "\\\n",
    "with A ∈ $S^n$\n",
    ", b ∈ $R^n$\n",
    ", and c ∈ $R$.\\\n",
    "\\\n",
    "(a) Show that C is convex if $A \\succeq 0$.\\\n",
    "(b) Show that the intersection of C and the hyperplane defined by $g^T x + h = 0$ (where\n",
    "$g \\neq 0$) is convex if $A + λgg^T \\succeq 0$ for some λ ∈ $R$.\\\n",
    "Are the converses of these statements true?\n"
   ]
  },
  {
   "cell_type": "markdown",
   "id": "b6c788a4",
   "metadata": {},
   "source": [
    "a) Sea la linea cualquiera p = {$ x̂ + tv$ | $t \\in R$}. Si A fuera convexo, su intersección con p también lo sería. \\\n",
    "$(x̂ + tv)^T A(x̂ + tv) + b^T( x̂ + tv) + c = v^TAv t^2 + (b^T v +2x̂^TAv) t + c + b^Tx̂ + x̂^TAx̂$ \\\n",
    "La intersección sería entonces: \\\n",
    "{ $x̂ + tv$ | $ v^TAv t^2 + (b^T v +2x̂^TAv) t + c + b^Tx̂ + x̂^TAx̂ ≤ 0$ } \\\n",
    "Esto será convexo si $v^TAv ≤ 0$. Nótese que como todos los valores en A son positivos, los valores dentro del vector $Av$ tendrán el mismo signo los elementos en el mismo índice dentro de v. Entonces al multiplicar valores con el mismo signo se tendrá un resultado positivo en $v^TAv$. \\\n",
    "Por lo tanto C será convexo."
   ]
  },
  {
   "cell_type": "markdown",
   "id": "3488f3ff",
   "metadata": {},
   "source": [
    "---\n",
    "### Ejercicio 2.13"
   ]
  },
  {
   "cell_type": "markdown",
   "id": "ebf046b4",
   "metadata": {},
   "source": [
    "Conic hull of outer products. Consider the set of rank-$k$ outer products, defined as\n",
    "{$XX^T$\n",
    "| $X ∈ R^{n×k}$\n",
    ", rank X = k}. Describe its conic hull in simple terms."
   ]
  },
  {
   "cell_type": "markdown",
   "id": "c775592a",
   "metadata": {},
   "source": [
    "Sean A y B matrices semidefinidas de rango $k$, tal que $rank(A + B) = r$ con $r<k$. Sea además $C \\in R^{nx(n-r)} $ una matriz tal que $R(C) = N(A+B)$\\\n",
    "$\\Rightarrow C^T(A+B)C = C^T AC + C^TBC = 0$\\\n",
    "$\\Leftrightarrow C^TAC = C^TBC = 0$ pues $A\\succeq 0 $ y $B \\succeq 0$\\\n",
    "$\\Rightarrow rank(A) \\leq r$ y $rank(B) < r$.\n",
    "Se concluye que la envolvente cónica es el conjunto de matrices semidefinidas positivas con rango mayor o igual a k."
   ]
  },
  {
   "cell_type": "markdown",
   "id": "5ac70641",
   "metadata": {},
   "source": [
    "---\n",
    "### Ejercicio 2.14"
   ]
  },
  {
   "cell_type": "markdown",
   "id": "e46d6444",
   "metadata": {},
   "source": [
    "Expanded and restricted sets. Let S ⊆ $R^n$\n",
    ", and let $ ||·|| $ be a norm on $R^n$\n",
    ".\\\n",
    "(a) For a ≥ 0 we define $S_a$ as {x | dist(x, S) ≤ a}, where dist(x, S) = $inf_{y∈S} ||x − y||$.\n",
    "We refer to $S_a$ as $S$ expanded or extended by $a$. Show that if $S$ is convex, then $S_a$\n",
    "is convex.\\\n",
    "(b) For a ≥ 0 we define $S_{−a}$ = {x | B(x, a) ⊆ S}, where $B(x, a)$ is the ball (in the norm\n",
    "$|| · ||$), centered at $x$, with radius $a$. We refer to $S_{−a}$ as $S$ shrunk or restricted by $a$,\n",
    "since $S_{−a}$ consists of all points that are at least a distance a from $R^n$\\ S. Show that\n",
    "if $S$ is convex, then $S_{−a}$ is convex."
   ]
  },
  {
   "cell_type": "markdown",
   "id": "1e7c796f",
   "metadata": {},
   "source": [
    "---\n",
    "### Ejercicio 2.15"
   ]
  },
  {
   "cell_type": "markdown",
   "id": "0d09bf59",
   "metadata": {},
   "source": [
    "Some sets of probability distributions. Let x be a real-valued random variable with\n",
    "prob($x = a_i$) = $p_i$, i = 1, . . . , n, where $a_1 < a_2 < · · · < a_n$. Of course $p ∈ R^n$\n",
    "lies in the standard probability simplex P = {p | $1^T p = 1, p \\succeq 0$ }. Which of the following\n",
    "conditions are convex in p? (That is, for which of the following conditions is the set of\n",
    "p ∈ P that satisfy the condition convex?)\\\n",
    "(a) α ≤ \n",
    "$E f(x) $≤ β, where E f(x) is the expected value of f(x), i.e.,  $E f(x) =  \\sum_{i+1}^{n}p_i f(a_i)$ \\. (The function f : R → R is given.)\\\n",
    "(b) prob(x > α) ≤ β\\\n",
    "(c) E |$x^3$| ≤ α E |x|.\\\n",
    "(d) E $x^2$ ≤ α.\\\n",
    "(e) E $x^2$ ≥ α.\\\n",
    "(f) var(x) ≤ α, where var(x) = $E(x − E x)^2$\n",
    "is the variance of x.\\\n",
    "(g) var(x) ≥ α.\\\n",
    "(h) quartile(x) ≥ α, where quartile(x) = inf{β | prob(x ≤ β) ≥ 0.25}.\\\n",
    "(i) quartile(x) ≤ α.\n"
   ]
  },
  {
   "cell_type": "markdown",
   "id": "6b2d330d",
   "metadata": {},
   "source": [
    "Nótese que las restricciones de a,b,c,d,e,h,i son desigualdades lineales sobre los $p_i$, por lo que se podrá ver que definen conjuntos convexos.\n",
    "a) $\\alpha \\leq \\sum_{i=1}^{n}p_i f(a_i) \\leq \\beta$\\\n",
    "b) Sea $S = \\left\\lbrace x | \\alpha_x \\geq \\alpha \\right\\rbrace$.\n",
    "Entonces $prob(x \\geq \\alpha) = \\sum_{i \\in S}^{}p_i$ \\\n",
    "$\\Rightarrow \\sum_{i \\in S}^{}p_i \\leq \\beta$\\\n",
    "c)$\\sum_{i = 1}^{n} p_i (|\\alpha_i^3| - \\alpha|\\alpha_i|) \\leq 0$\\\n",
    "d)$\\sum_{i = 1}^{n} p_i\\alpha_i^2 \\leq \\alpha$\\\n",
    "e)$\\sum_{i = 1}^{n} p_i\\alpha_i^2 \\geq \\alpha$\\\n",
    "h)$\\sum_{i = 1}^{k}p_i < 0.25$\\\n",
    "i)$\\sum_{i = k}^{n-1}p_{i+1} \\geq 0.25$\\"
   ]
  },
  {
   "cell_type": "markdown",
   "id": "4cebbd6d",
   "metadata": {},
   "source": [
    "---\n",
    "### Ejercicio 2.16"
   ]
  },
  {
   "cell_type": "markdown",
   "id": "cd86a2f7",
   "metadata": {},
   "source": [
    "Show that if $S_1$ and $S_2$ are convex sets in $R^{m+n}$, then so is their partial sum\n",
    "S = {$(x, y_1 + y_2)$ | $x ∈ R^m, y_1, y_2 ∈ R^n\n",
    ",(x, y_1) ∈ S1, (x, y_2) ∈ S_2$}.\n"
   ]
  },
  {
   "cell_type": "markdown",
   "id": "dc49615f",
   "metadata": {},
   "source": [
    "Sean $(x,y_1 + y_2), (x',y_1'+y_2') \\in S$, con $(x,y_1) \\in S_1$, $(x,y_2) \\in S_2$, $(x', y_1') \\in S_1$, $(x', y_2') \\in S_2$\n",
    "Sea además $0 \\leq \\theta \\leq 1$. Entonces\\\n",
    "$\\theta(x, y_1 + y_2) + (1 - \\theta)(x', y_1'+ y_2') = (\\theta x + (1-\\theta)x' , (\\theta y_1 + (1- \\theta) y_1') + (\\theta y_2 + (1- \\theta)y_2'))$\\\n",
    "Como $(\\theta x+ (1- \\theta ) x', \\theta y_1 + (1- \\theta) y_1') \\in S_1$ y $(\\theta x + (1- \\theta) x', \\theta y_2 + (1- \\theta) y_2') \\in S_2$, por convexidad en $S_1$ y $S_2$ respectivamente, la combinación convexa entre $(x,y_1 + y_2)$ y $(x',y_1'+y_2')$ pertenece a S."
   ]
  },
  {
   "cell_type": "markdown",
   "id": "45957c0a",
   "metadata": {},
   "source": [
    "---\n",
    "### Ejercicio 2.17"
   ]
  },
  {
   "cell_type": "markdown",
   "id": "0908fe08",
   "metadata": {},
   "source": [
    "Image of polyhedral sets under perspective function. In this problem we study the image\n",
    "of hyperplanes, halfspaces, and polyhedra under the perspective function $P(x, t) = x/t$,\n",
    "with $dom P = R^n × R_{++}$. For each of the following sets C, give a simple description of\\\n",
    "$P(C) = ${ $v/t$ | $(v, t) ∈ C, t > 0$ }.\\\n",
    "(a) The polyhedron $C = conv${ $(v_1, t_1), . . . ,(v_K, t_K)$ } where $v_i ∈ R^n$\n",
    "and $t_i > 0$. \\\n",
    "(b) The hyperplane C = {$(v, t)$ | $f^T\n",
    "v + gt = h$} (with f and g not both zero).\\\n",
    "(c) The halfspace C = {$(v, t)$ | $f^T\n",
    "v + gt ≤ h$} (with f and g not both zero). \\\n",
    "(d) The polyhedron C = { $(v, t)$ | $F v + gt \\preceq h$ }."
   ]
  },
  {
   "cell_type": "markdown",
   "id": "43f2676e",
   "metadata": {},
   "source": [
    "b) $= \\left\\lbrace z | f^Tz + g = 0 \\right\\rbrace$ si $h=0$, $\\left\\lbrace z | f^Tz + g > 0 \\right\\rbrace$ si $h>0$ y $\\left\\lbrace z | f^Tz + g < 0 \\right\\rbrace$ si $h<0$\\\n",
    "c) $= \\left\\lbrace z | f^Tz + g \\leq 0 \\right\\rbrace$ si $h=0$, $R^n$ si $h>0$ y $\\left\\lbrace z | f^Tz + g < 0 \\right\\rbrace$ si $h<0$\\\n",
    "d) = $\\left\\lbrace z | f^Tz + g \\leq 0 \\right\\rbrace$ si $h=0$, $\\left\\lbrace z | (f^Tz + g)/h > 0 \\right\\rbrace$ si $h>0$ y $\\left\\lbrace z | f^Tz + g < 0 \\right\\rbrace$ si $h<0$"
   ]
  },
  {
   "cell_type": "markdown",
   "id": "290f3c5d",
   "metadata": {},
   "source": [
    "---\n",
    "### Ejercicio 2.18"
   ]
  },
  {
   "cell_type": "markdown",
   "id": "15d3f774",
   "metadata": {},
   "source": [
    " Invertible linear-fractional functions. Let f : Rn → Rn\n",
    "be the linear-fractional function\\\n",
    "$f(x) = (Ax + b)/(c^Tx + d)$,  $dom f = ${ $x | c^Tx + d > 0$}.\\\n",
    "Suppose the matrix\\\n",
    "$\\begin{equation} Q = \\left[\n",
    "\\begin{matrix}\n",
    "A & b\\\\\n",
    "c^T & d\n",
    "\\end{matrix}\\right]\n",
    "\\end{equation}$\n",
    "\n",
    "is nonsingular. Show that f is invertible and that $f^{−1}$ is a linear-fractional mapping.\n",
    "Give an explicit expression for $f^{−1}$\n",
    "and its domain in terms of A, b, c, and d. Hint. It\n",
    "may be easier to express $f^{−1}$ in terms of Q."
   ]
  },
  {
   "cell_type": "markdown",
   "id": "f1a63a10",
   "metadata": {},
   "source": [
    "De lo postulado en la página 41 del libro se puede deducir la forma inversa de la función f, que sería entonces $f^{-1} = P^{-1}(Q^{-1}P(x))$."
   ]
  },
  {
   "cell_type": "markdown",
   "id": "61936191",
   "metadata": {},
   "source": [
    "---\n",
    "### Ejercicios extra"
   ]
  },
  {
   "cell_type": "markdown",
   "id": "526a533e",
   "metadata": {},
   "source": [
    "Implementar un algoritmo para determinar el cono convexo de un conjunto de puntos en cualquier dimensión."
   ]
  },
  {
   "cell_type": "code",
   "execution_count": 11,
   "id": "37194613",
   "metadata": {},
   "outputs": [
    {
     "name": "stdout",
     "output_type": "stream",
     "text": [
      "Los puntos que se generaron aleatoriamente son: \n",
      "[[17, 52, 9], [67, 30, 85], [75, 100, 4], [79, 14, 25], [96, 13, 49], [65, 27, 82], [35, 95, 23], [2, 20, 43], [25, 4, 13], [61, 12, 50]]\n",
      " \n",
      "Un cono convexo de este conjunto de puntos puede ser dado por:\n",
      "S = {x in R^n | [-0.02666666666666667, 0.01, 0.25]x ≥ 0 , [-0.02531645569620253, 0.07142857142857142, 0.04]x ≥ 0 , [-1.0, 0.05, 0.023255813953488372]x ≤ 0 ,}"
     ]
    }
   ],
   "source": [
    "using LinearAlgebra\n",
    "\n",
    "#Generar I puntos aleatorios en la dimensión J\n",
    "I = 10\n",
    "J = 3\n",
    "#AoP = Array of points\n",
    "AoP = [[101,101]]\n",
    "for i in (1:I)\n",
    "    NewElement = [rand(0:100)]\n",
    "    \n",
    "    for j in (1:J-1)\n",
    "        NewElement = [NewElement; rand(0:100)]\n",
    "    end    \n",
    "    \n",
    "    AoP = [AoP; [NewElement]]\n",
    "end\n",
    "#Se elimina el primer elemento, que solo se añadió para determinar el tipo de arreglo que sería AoP.\n",
    "filter!(e->e≠[101,101],AoP)\n",
    "println(\"Los puntos que se generaron aleatoriamente son: \")\n",
    "println(AoP)\n",
    "println(\" \")\n",
    "\n",
    "#Se intentará formar un poliedro que contenga a todos los puntos, y cuyos hiperplanos pasen por el origen, así se podrá\n",
    "#afirmar que el poliedro es también un cono convexo.\n",
    "\n",
    "#Lista de vectores ortogonales a los puntos.\n",
    "OrthgVect = [[[101,101], \"<\"]]\n",
    "for i in AoP\n",
    "    \n",
    "    # *** Desde acá se genera un vector ortogonal al actual de AoP\n",
    "    if i[1] > 0\n",
    "        NewElement = [ -(J-1) / (i[1]) ]\n",
    "    elseif i[1]< 0\n",
    "        NewElement = [ -(J-1) / -(i[1]) ]\n",
    "    else\n",
    "        NewElement = [ -(J-1)]\n",
    "    end\n",
    "    bool = false\n",
    "    \n",
    "    for j in i\n",
    "        if(bool)\n",
    "            if j>0\n",
    "                NewElement = [NewElement; 1/j]\n",
    "            \n",
    "            else\n",
    "                NewElement = [NewElement; -1/j]\n",
    "            end\n",
    "        end\n",
    "        \n",
    "        bool = true\n",
    "    end    \n",
    "    # *** Acá ya se generó el vector ortogonal NewElement.\n",
    "    \n",
    "    \n",
    "    # Ahora verificaremos si alguno de los dos semiespacios que genera NewElement sirve para \n",
    "    # generar el poliedro cono convexo\n",
    "    infSirve = true\n",
    "    supSirve = true\n",
    "    \n",
    "    for k in AoP\n",
    "        if dot(NewElement, k)<0\n",
    "            supSirve = false\n",
    "        elseif dot(NewElement, k)>0\n",
    "            infSirve = false\n",
    "        end\n",
    "    end\n",
    "    \n",
    "    if infSirve   \n",
    "        P = [NewElement, \"≤\"]\n",
    "        OrthgVect = [OrthgVect;[P] ]\n",
    "    elseif supSirve\n",
    "        R = [NewElement, \"≥\"]\n",
    "        OrthgVect = [OrthgVect; [R]]\n",
    "    end     \n",
    "   \n",
    "end\n",
    "#Se elimina el primer elemento, que solo se añadió para determinar el tipo de arreglo que sería OrthgVect.\n",
    "filter!(e->e≠[[101.0,101.0], \"<\"],OrthgVect)\n",
    "\n",
    "#Se imprime en forma de poliedro el resultado\n",
    "println(\"Un cono convexo de este conjunto de puntos puede ser dado por:\")\n",
    "print(\"S = {x in R^n |\")\n",
    "for i in OrthgVect\n",
    "    print(\" \", i[1], \"x \", i[2], \" 0 ,\" )\n",
    "end\n",
    "print(\"}\")\n",
    "#println(OrthgVect)\n"
   ]
  },
  {
   "cell_type": "markdown",
   "id": "1e788ec6",
   "metadata": {},
   "source": [
    "Verificar que el conjunto de soluciones de un conjunto de desigualdades de matrices lineales es convexa."
   ]
  },
  {
   "cell_type": "markdown",
   "id": "d04c5019",
   "metadata": {},
   "source": [
    "Sea S el conjunto de soluciones de un conjunto de desigualdades D. Supóngase que existen $x,y \\in S$ tal que $z = \\theta x + (1- \\theta)y \\notin S$, con $0 \\leq \\theta \\leq 1$. Si $z \\notin S$, tiene que haber al menos una desigualdad en S que z no cumple. Sn pérsida dde generalidad se puede asumir que la desigualdad depende de un \"menor o igual\". Sean E y b tal que $Ez \\leq b$ es la desigualdad que no se cumple. Sabemos que si $Ex = m$ y $Ey = n$ entonces se cumple que $m,n \\leq b$. Por lo tanto, $m/ \\theta + n/(1-\\theta) \\leq b$. Esto contradice lo postulado inicialmente."
   ]
  }
 ],
 "metadata": {
  "kernelspec": {
   "display_name": "Julia 1.7.2",
   "language": "julia",
   "name": "julia-1.7"
  },
  "language_info": {
   "file_extension": ".jl",
   "mimetype": "application/julia",
   "name": "julia",
   "version": "1.7.2"
  }
 },
 "nbformat": 4,
 "nbformat_minor": 5
}
